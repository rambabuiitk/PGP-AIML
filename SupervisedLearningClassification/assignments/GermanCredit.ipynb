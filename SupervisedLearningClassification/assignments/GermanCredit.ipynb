{
 "cells": [
  {
   "cell_type": "markdown",
   "metadata": {
    "colab_type": "text",
    "id": "tq8Bbtn4_sNL"
   },
   "source": [
    "# Logistic regression"
   ]
  },
  {
   "cell_type": "markdown",
   "metadata": {},
   "source": [
    "## Context\n",
    "The original dataset contains 1000 entries with 20 categorial/symbolic attributes prepared by Prof. Hofmann. In this dataset, each entry represents a person who takes a credit by a bank. Each person is classified as good or bad credit risks according to the set of attributes. It is almost impossible to understand the original dataset due to its complicated system of categories and symbols. Thus, the attributes in this dataset is a subset of the original dataset. Several columns are simply ignored, and some of the important attritubes like age, account balance etc. are retained."
   ]
  },
  {
   "cell_type": "markdown",
   "metadata": {
    "colab_type": "text",
    "id": "IRBfiJLo_sNO"
   },
   "source": [
    "## Dataset: German Credit Risk\n",
    "\n",
    "- Age (Numeric : Age in years)\n",
    "- Sex (Categories : male, female)\n",
    "- Job (Categories : 0 - unskilled and non-resident, 1 - unskilled and resident, 2 - skilled, 3 - highly skilled)\n",
    "- Housing (Categories : own, rent, or free)\n",
    "- Saving accounts (Categories : little, moderate, quite rich, rich)\n",
    "- Checking account (Categories : little, moderate, rich)\n",
    "- Credit amount (Numeric : Amount of credit in DM - Deutsche Mark)\n",
    "- Duration (Numeric : Duration for which the credit is given in months)\n",
    "- Purpose (Categories: car, furniture/equipment, radio/TV, domestic appliances, repairs, education, business, vacation/others)\n",
    "- Risk (0 - Person is not at risk, 1 - Pesron is at risk(defaulter))"
   ]
  },
  {
   "cell_type": "markdown",
   "metadata": {
    "colab_type": "text",
    "id": "9-NdpVy-_sNS"
   },
   "source": [
    "# Objective\n",
    "\n",
    "The objective is to estimate probabilities whether a person would default or not using logistic regression. In this dataset, the target variable is 'Risk'."
   ]
  },
  {
   "cell_type": "markdown",
   "metadata": {
    "colab_type": "text",
    "id": "fHxngd4e_sNT"
   },
   "source": [
    "# 1. Load Libraries and data"
   ]
  },
  {
   "cell_type": "code",
   "execution_count": 1,
   "metadata": {},
   "outputs": [],
   "source": [
    "import numpy as np\n",
    "import pandas as pd\n",
    "import matplotlib.pyplot as plt\n",
    "import seaborn as sns\n",
    "%matplotlib inline\n",
    "pd.options.display.float_format = '{:,.2f}'.format\n",
    "german_credit = pd.read_csv('German_Credit.csv')"
   ]
  },
  {
   "cell_type": "markdown",
   "metadata": {
    "colab_type": "text",
    "id": "a8t1RWUn_sNt"
   },
   "source": [
    "# 2. Calculate the percentage of missing values for each column and fill those missing values.\n"
   ]
  },
  {
   "cell_type": "code",
   "execution_count": 2,
   "metadata": {
    "colab": {},
    "colab_type": "code",
    "id": "kzNbWyQO_sNu",
    "outputId": "838d1afc-1b4f-422c-86f0-bbec7c0323a7"
   },
   "outputs": [
    {
     "name": "stdout",
     "output_type": "stream",
     "text": [
      "Sex: \n",
      "male      690\n",
      "female    310\n",
      "Name: Sex, dtype: int64\n",
      "\n",
      "\n",
      "Housing: \n",
      "own     713\n",
      "rent    179\n",
      "free    108\n",
      "Name: Housing, dtype: int64\n",
      "\n",
      "\n",
      "Saving accounts: \n",
      "little        603\n",
      "moderate      103\n",
      "quite rich     63\n",
      "rich           48\n",
      "Name: Saving accounts, dtype: int64\n",
      "\n",
      "\n",
      "Checking account: \n",
      "little      274\n",
      "moderate    269\n",
      "rich         63\n",
      "Name: Checking account, dtype: int64\n",
      "\n",
      "\n",
      "Purpose: \n",
      "car                    337\n",
      "radio/TV               280\n",
      "furniture/equipment    181\n",
      "business                97\n",
      "education               59\n",
      "repairs                 22\n",
      "domestic appliances     12\n",
      "vacation/others         12\n",
      "Name: Purpose, dtype: int64\n",
      "\n",
      "\n"
     ]
    }
   ],
   "source": [
    "for column in german_credit.select_dtypes(include='object'):\n",
    "    print(f'{column}: \\n{german_credit[column].value_counts()}\\n\\n')"
   ]
  },
  {
   "cell_type": "code",
   "execution_count": 3,
   "metadata": {},
   "outputs": [
    {
     "name": "stdout",
     "output_type": "stream",
     "text": [
      "<class 'pandas.core.frame.DataFrame'>\n",
      "RangeIndex: 1000 entries, 0 to 999\n",
      "Data columns (total 10 columns):\n",
      " #   Column            Non-Null Count  Dtype \n",
      "---  ------            --------------  ----- \n",
      " 0   Age               1000 non-null   int64 \n",
      " 1   Sex               1000 non-null   object\n",
      " 2   Job               1000 non-null   int64 \n",
      " 3   Housing           1000 non-null   object\n",
      " 4   Saving accounts   817 non-null    object\n",
      " 5   Checking account  606 non-null    object\n",
      " 6   Credit amount     1000 non-null   int64 \n",
      " 7   Duration          1000 non-null   int64 \n",
      " 8   Purpose           1000 non-null   object\n",
      " 9   Risk              1000 non-null   int64 \n",
      "dtypes: int64(5), object(5)\n",
      "memory usage: 78.2+ KB\n"
     ]
    }
   ],
   "source": [
    "# check missing values and get other information\n",
    "german_credit.info()"
   ]
  },
  {
   "cell_type": "code",
   "execution_count": 4,
   "metadata": {},
   "outputs": [
    {
     "name": "stdout",
     "output_type": "stream",
     "text": [
      "Age: 0.0 %\n",
      "Sex: 0.0 %\n",
      "Job: 0.0 %\n",
      "Housing: 0.0 %\n",
      "Saving accounts: 18.3 %\n",
      "Checking account: 39.4 %\n",
      "Credit amount: 0.0 %\n",
      "Duration: 0.0 %\n",
      "Purpose: 0.0 %\n",
      "Risk: 0.0 %\n"
     ]
    }
   ],
   "source": [
    "# find percentage of missing values\n",
    "missing_value_summary = german_credit.isna().sum()/len(german_credit.isna().any(axis=0))\n",
    "for value in missing_value_summary.index:\n",
    "    print(f'{value}: {missing_value_summary[value]} %')"
   ]
  },
  {
   "cell_type": "code",
   "execution_count": 5,
   "metadata": {},
   "outputs": [
    {
     "name": "stdout",
     "output_type": "stream",
     "text": [
      "Age: 0.0 %\n",
      "Sex: 0.0 %\n",
      "Job: 0.0 %\n",
      "Housing: 0.0 %\n",
      "Saving accounts: 0.0 %\n",
      "Checking account: 0.0 %\n",
      "Credit amount: 0.0 %\n",
      "Duration: 0.0 %\n",
      "Purpose: 0.0 %\n",
      "Risk: 0.0 %\n"
     ]
    }
   ],
   "source": [
    "# fill missing values\n",
    "german_credit_rectified = german_credit.fillna(value='unknown')\n",
    "#verify\n",
    "missing_value_summary_rectified = german_credit_rectified.isna().sum()/len(german_credit_rectified.isna().any(axis=0))\n",
    "for value in missing_value_summary_rectified.index:\n",
    "    print(f'{value}: {missing_value_summary_rectified[value]} %')"
   ]
  },
  {
   "cell_type": "markdown",
   "metadata": {
    "colab_type": "text",
    "id": "6wXNl8gJ_sN4"
   },
   "source": [
    "# 3. Plot histogram for columns 'Credit amount' and 'Age'"
   ]
  },
  {
   "cell_type": "code",
   "execution_count": 6,
   "metadata": {
    "colab": {},
    "colab_type": "code",
    "id": "cb4zwYHt_sN5",
    "outputId": "8dc92796-edcc-4efb-8e19-b7b595370448"
   },
   "outputs": [
    {
     "data": {
      "text/plain": [
       "<seaborn.axisgrid.FacetGrid at 0x7fa91b5c36d0>"
      ]
     },
     "execution_count": 6,
     "metadata": {},
     "output_type": "execute_result"
    },
    {
     "data": {
      "image/png": "[encoded data removed]",
      "text/plain": [
       "<Figure size 360x360 with 1 Axes>"
      ]
     },
     "metadata": {
      "needs_background": "light"
     },
     "output_type": "display_data"
    },
    {
     "data": {
      "image/png": "[encoded data removed]",
      "text/plain": [
       "<Figure size 360x360 with 1 Axes>"
      ]
     },
     "metadata": {
      "needs_background": "light"
     },
     "output_type": "display_data"
    }
   ],
   "source": [
    "sns.displot(german_credit_rectified, x=\"Credit amount\", kind=\"kde\", fill=True)\n",
    "sns.displot(german_credit_rectified, x=\"Age\", kind=\"kde\", fill=True)"
   ]
  },
  {
   "cell_type": "markdown",
   "metadata": {},
   "source": [
    "# 4. Create counplots for columns 'Duration', 'Purpose'. What durations are most common and for what purposes most credits are taken?"
   ]
  },
  {
   "cell_type": "code",
   "execution_count": 7,
   "metadata": {},
   "outputs": [
    {
     "data": {
      "text/plain": [
       "<AxesSubplot:xlabel='Duration', ylabel='count'>"
      ]
     },
     "execution_count": 7,
     "metadata": {},
     "output_type": "execute_result"
    },
    {
     "data": {
      "image/png": "[encoded data removed]",
      "text/plain": [
       "<Figure size 720x360 with 1 Axes>"
      ]
     },
     "metadata": {
      "needs_background": "light"
     },
     "output_type": "display_data"
    }
   ],
   "source": [
    "plt.figure(figsize=(10,5))\n",
    "sns.countplot(x=\"Duration\", data=german_credit_rectified)"
   ]
  },
  {
   "cell_type": "code",
   "execution_count": 8,
   "metadata": {},
   "outputs": [
    {
     "data": {
      "text/plain": [
       "<AxesSubplot:xlabel='Purpose', ylabel='count'>"
      ]
     },
     "execution_count": 8,
     "metadata": {},
     "output_type": "execute_result"
    },
    {
     "data": {
      "image/png": "[encoded data removed]",
      "text/plain": [
       "<Figure size 864x360 with 1 Axes>"
      ]
     },
     "metadata": {
      "needs_background": "light"
     },
     "output_type": "display_data"
    }
   ],
   "source": [
    "plt.figure(figsize=(12,5))\n",
    "sns.countplot(x=\"Purpose\", data=german_credit_rectified)"
   ]
  },
  {
   "cell_type": "markdown",
   "metadata": {},
   "source": [
    "## Insights\n",
    "* Most common duration is 2 years (24 months) followed by 1 year (12 months)\n",
    "* Most common purpose of credit is Car followed by radio/tv"
   ]
  },
  {
   "cell_type": "markdown",
   "metadata": {
    "colab_type": "text",
    "id": "OTi19aryIF9e"
   },
   "source": [
    "# 5. Which 'Job', 'Savings account', 'Checking account' has highest number of defaulters?"
   ]
  },
  {
   "cell_type": "code",
   "execution_count": 9,
   "metadata": {},
   "outputs": [
    {
     "data": {
      "text/plain": [
       "<AxesSubplot:xlabel='Sex', ylabel='count'>"
      ]
     },
     "execution_count": 9,
     "metadata": {},
     "output_type": "execute_result"
    },
    {
     "data": {
      "image/png": "[encoded data removed]",
      "text/plain": [
       "<Figure size 432x288 with 1 Axes>"
      ]
     },
     "metadata": {
      "needs_background": "light"
     },
     "output_type": "display_data"
    }
   ],
   "source": [
    "sns.countplot(x=\"Sex\", hue = 'Risk', data=german_credit_rectified)"
   ]
  },
  {
   "cell_type": "code",
   "execution_count": 10,
   "metadata": {},
   "outputs": [],
   "source": [
    "sex_risk = german_credit_rectified[['Sex', 'Risk']]\n",
    "sex_risk_summary = sex_risk.groupby(['Sex']).sum()\n",
    "sex_risk_summary['Total'] = sex_risk.groupby(['Sex']).count()\n",
    "sex_risk_summary['Percentage'] = sex_risk_summary['Risk']/sex_risk_summary['Total'] * 100\n",
    "sex_risk_summary\n",
    "sex_risk_summary.reset_index(inplace=True)"
   ]
  },
  {
   "cell_type": "code",
   "execution_count": 11,
   "metadata": {},
   "outputs": [
    {
     "data": {
      "text/plain": [
       "<AxesSubplot:xlabel='Sex', ylabel='Percentage'>"
      ]
     },
     "execution_count": 11,
     "metadata": {},
     "output_type": "execute_result"
    },
    {
     "data": {
      "image/png": "[encoded data removed]",
      "text/plain": [
       "<Figure size 432x288 with 1 Axes>"
      ]
     },
     "metadata": {
      "needs_background": "light"
     },
     "output_type": "display_data"
    }
   ],
   "source": [
    "sns.barplot(x='Sex', y='Percentage', data = sex_risk_summary)"
   ]
  },
  {
   "cell_type": "code",
   "execution_count": 12,
   "metadata": {},
   "outputs": [],
   "source": [
    "german_credit_rectified['Job'] = german_credit_rectified['Job'].replace({0:'unskilled and non-resident', 1:'unskilled and resident', 2:'skilled', 3:'highly skilled'})"
   ]
  },
  {
   "cell_type": "code",
   "execution_count": 13,
   "metadata": {},
   "outputs": [
    {
     "data": {
      "text/plain": [
       "<AxesSubplot:xlabel='Job', ylabel='count'>"
      ]
     },
     "execution_count": 13,
     "metadata": {},
     "output_type": "execute_result"
    },
    {
     "data": {
      "image/png": "[encoded data removed]",
      "text/plain": [
       "<Figure size 1080x360 with 1 Axes>"
      ]
     },
     "metadata": {
      "needs_background": "light"
     },
     "output_type": "display_data"
    }
   ],
   "source": [
    "plt.figure(figsize=(15,5))\n",
    "sns.countplot(x=\"Job\", hue = 'Risk', data=german_credit_rectified)"
   ]
  },
  {
   "cell_type": "code",
   "execution_count": 14,
   "metadata": {},
   "outputs": [
    {
     "data": {
      "text/plain": [
       "<AxesSubplot:xlabel='Job', ylabel='Percentage'>"
      ]
     },
     "execution_count": 14,
     "metadata": {},
     "output_type": "execute_result"
    },
    {
     "data": {
      "image/png": "[encoded data removed]",
      "text/plain": [
       "<Figure size 1080x360 with 1 Axes>"
      ]
     },
     "metadata": {
      "needs_background": "light"
     },
     "output_type": "display_data"
    }
   ],
   "source": [
    "plt.figure(figsize=(15,5))\n",
    "job_risk = german_credit_rectified[['Job', 'Risk']]\n",
    "job_risk_summary = job_risk.groupby('Job').sum()\n",
    "job_risk_summary['Total'] = job_risk.groupby('Job').count()\n",
    "job_risk_summary['Percentage'] = job_risk_summary['Risk']/job_risk_summary['Total'] * 100\n",
    "job_risk_summary.reset_index(inplace=True)\n",
    "sns.barplot(x='Job', y='Percentage', data=job_risk_summary)"
   ]
  },
  {
   "cell_type": "code",
   "execution_count": 15,
   "metadata": {},
   "outputs": [
    {
     "data": {
      "text/plain": [
       "<AxesSubplot:ylabel='Percentage'>"
      ]
     },
     "execution_count": 15,
     "metadata": {},
     "output_type": "execute_result"
    },
    {
     "data": {
      "image/png": "[encoded data removed]",
      "text/plain": [
       "<Figure size 432x288 with 1 Axes>"
      ]
     },
     "metadata": {
      "needs_background": "light"
     },
     "output_type": "display_data"
    }
   ],
   "source": [
    "sns.boxplot(y='Percentage', data=job_risk_summary)"
   ]
  },
  {
   "cell_type": "code",
   "execution_count": 16,
   "metadata": {},
   "outputs": [
    {
     "data": {
      "text/plain": [
       "<AxesSubplot:xlabel='Saving accounts', ylabel='count'>"
      ]
     },
     "execution_count": 16,
     "metadata": {},
     "output_type": "execute_result"
    },
    {
     "data": {
      "image/png": "[encoded data removed]",
      "text/plain": [
       "<Figure size 432x288 with 1 Axes>"
      ]
     },
     "metadata": {
      "needs_background": "light"
     },
     "output_type": "display_data"
    }
   ],
   "source": [
    "sns.countplot(x='Saving accounts', hue='Risk', data = german_credit_rectified)"
   ]
  },
  {
   "cell_type": "code",
   "execution_count": 17,
   "metadata": {},
   "outputs": [
    {
     "data": {
      "text/plain": [
       "<AxesSubplot:xlabel='Saving accounts', ylabel='Percentage'>"
      ]
     },
     "execution_count": 17,
     "metadata": {},
     "output_type": "execute_result"
    },
    {
     "data": {
      "image/png": "[encoded data removed]",
      "text/plain": [
       "<Figure size 432x288 with 1 Axes>"
      ]
     },
     "metadata": {
      "needs_background": "light"
     },
     "output_type": "display_data"
    }
   ],
   "source": [
    "saving_account_risk = german_credit_rectified[['Saving accounts', 'Risk']]\n",
    "saving_account_risk_summary = saving_account_risk.groupby('Saving accounts').sum()\n",
    "saving_account_risk_summary['Total'] = saving_account_risk.groupby('Saving accounts').count()\n",
    "saving_account_risk_summary['Percentage'] = saving_account_risk_summary['Risk']/saving_account_risk_summary['Total']*100\n",
    "saving_account_risk_summary.reset_index(inplace=True)\n",
    "sns.barplot(data=saving_account_risk_summary, x='Saving accounts', y='Percentage')"
   ]
  },
  {
   "cell_type": "code",
   "execution_count": 18,
   "metadata": {},
   "outputs": [
    {
     "data": {
      "text/plain": [
       "<AxesSubplot:ylabel='Percentage'>"
      ]
     },
     "execution_count": 18,
     "metadata": {},
     "output_type": "execute_result"
    },
    {
     "data": {
      "image/png": "[encoded data removed]",
      "text/plain": [
       "<Figure size 432x288 with 1 Axes>"
      ]
     },
     "metadata": {
      "needs_background": "light"
     },
     "output_type": "display_data"
    }
   ],
   "source": [
    "sns.boxplot(y='Percentage', data=saving_account_risk_summary)"
   ]
  },
  {
   "cell_type": "code",
   "execution_count": 19,
   "metadata": {},
   "outputs": [
    {
     "data": {
      "text/plain": [
       "<AxesSubplot:xlabel='Checking account', ylabel='count'>"
      ]
     },
     "execution_count": 19,
     "metadata": {},
     "output_type": "execute_result"
    },
    {
     "data": {
      "image/png": "[encoded data removed]",
      "text/plain": [
       "<Figure size 432x288 with 1 Axes>"
      ]
     },
     "metadata": {
      "needs_background": "light"
     },
     "output_type": "display_data"
    }
   ],
   "source": [
    "sns.countplot(x='Checking account', hue='Risk', data = german_credit_rectified)"
   ]
  },
  {
   "cell_type": "code",
   "execution_count": 20,
   "metadata": {},
   "outputs": [
    {
     "data": {
      "text/plain": [
       "<AxesSubplot:xlabel='Checking account', ylabel='Percentage'>"
      ]
     },
     "execution_count": 20,
     "metadata": {},
     "output_type": "execute_result"
    },
    {
     "data": {
      "image/png": "[encoded data removed]",
      "text/plain": [
       "<Figure size 432x288 with 1 Axes>"
      ]
     },
     "metadata": {
      "needs_background": "light"
     },
     "output_type": "display_data"
    }
   ],
   "source": [
    "checking_account_risk = german_credit_rectified[['Checking account','Risk']]\n",
    "checking_account_risk_summary = checking_account_risk.groupby('Checking account').sum()\n",
    "checking_account_risk_summary['Total'] = checking_account_risk.groupby('Checking account').count()\n",
    "checking_account_risk_summary['Percentage'] = checking_account_risk_summary['Risk']/checking_account_risk_summary['Total'] * 100\n",
    "checking_account_risk_summary.reset_index(inplace=True)\n",
    "sns.barplot(x='Checking account', y='Percentage',data=checking_account_risk_summary)"
   ]
  },
  {
   "cell_type": "markdown",
   "metadata": {},
   "source": [
    "## Insights\n",
    "* Although the number of male defaulters is higher than female defaulters, the ratio of defaulters vs non defaulters is higher in females\n",
    "* The highest number of defaulters are skilled workers followed by ```unskilled and residents``` category of workers. In terms of ratio all kind of jobs are almost equally likely to default with default percentages ranging between 28 to ~35 % across all job types\n",
    "* In terms of savings - people with little savings are the largest number of defaulters - they are also most likely to default (defaulter vs non defaulter ratio) - also people with moderate savings are also quite risky in terms of defaulting (although they are the third largest in terms of number)\n",
    "* In terms of checking account - people with unknown status of checking account balance are the largest number of defaulters - but they are not the most likely group to default (defaulter vs non defaulter ratio) - people with little balance in their checking account are most likely to default followed by people with moderate savings although they have the second highest number of defaulters"
   ]
  },
  {
   "cell_type": "markdown",
   "metadata": {},
   "source": [
    "# 6. Convert 'Credit amount' and 'Age' into categorical features by grouping them into different intervals and drop the original columns.\n",
    "You can decide the intervals using df.describe() method."
   ]
  },
  {
   "cell_type": "code",
   "execution_count": 21,
   "metadata": {},
   "outputs": [
    {
     "data": {
      "text/html": [
       "<div>\n",
       "<style scoped>\n",
       "    .dataframe tbody tr th:only-of-type {\n",
       "        vertical-align: middle;\n",
       "    }\n",
       "\n",
       "    .dataframe tbody tr th {\n",
       "        vertical-align: top;\n",
       "    }\n",
       "\n",
       "    .dataframe thead th {\n",
       "        text-align: right;\n",
       "    }\n",
       "</style>\n",
       "<table border=\"1\" class=\"dataframe\">\n",
       "  <thead>\n",
       "    <tr style=\"text-align: right;\">\n",
       "      <th></th>\n",
       "      <th>Age</th>\n",
       "      <th>Credit amount</th>\n",
       "      <th>Duration</th>\n",
       "      <th>Risk</th>\n",
       "    </tr>\n",
       "  </thead>\n",
       "  <tbody>\n",
       "    <tr>\n",
       "      <th>count</th>\n",
       "      <td>1,000.00</td>\n",
       "      <td>1,000.00</td>\n",
       "      <td>1,000.00</td>\n",
       "      <td>1,000.00</td>\n",
       "    </tr>\n",
       "    <tr>\n",
       "      <th>mean</th>\n",
       "      <td>35.55</td>\n",
       "      <td>3,271.26</td>\n",
       "      <td>20.90</td>\n",
       "      <td>0.30</td>\n",
       "    </tr>\n",
       "    <tr>\n",
       "      <th>std</th>\n",
       "      <td>11.38</td>\n",
       "      <td>2,822.74</td>\n",
       "      <td>12.06</td>\n",
       "      <td>0.46</td>\n",
       "    </tr>\n",
       "    <tr>\n",
       "      <th>min</th>\n",
       "      <td>19.00</td>\n",
       "      <td>250.00</td>\n",
       "      <td>4.00</td>\n",
       "      <td>0.00</td>\n",
       "    </tr>\n",
       "    <tr>\n",
       "      <th>25%</th>\n",
       "      <td>27.00</td>\n",
       "      <td>1,365.50</td>\n",
       "      <td>12.00</td>\n",
       "      <td>0.00</td>\n",
       "    </tr>\n",
       "    <tr>\n",
       "      <th>50%</th>\n",
       "      <td>33.00</td>\n",
       "      <td>2,319.50</td>\n",
       "      <td>18.00</td>\n",
       "      <td>0.00</td>\n",
       "    </tr>\n",
       "    <tr>\n",
       "      <th>75%</th>\n",
       "      <td>42.00</td>\n",
       "      <td>3,972.25</td>\n",
       "      <td>24.00</td>\n",
       "      <td>1.00</td>\n",
       "    </tr>\n",
       "    <tr>\n",
       "      <th>max</th>\n",
       "      <td>75.00</td>\n",
       "      <td>18,424.00</td>\n",
       "      <td>72.00</td>\n",
       "      <td>1.00</td>\n",
       "    </tr>\n",
       "  </tbody>\n",
       "</table>\n",
       "</div>"
      ],
      "text/plain": [
       "           Age  Credit amount  Duration     Risk\n",
       "count 1,000.00       1,000.00  1,000.00 1,000.00\n",
       "mean     35.55       3,271.26     20.90     0.30\n",
       "std      11.38       2,822.74     12.06     0.46\n",
       "min      19.00         250.00      4.00     0.00\n",
       "25%      27.00       1,365.50     12.00     0.00\n",
       "50%      33.00       2,319.50     18.00     0.00\n",
       "75%      42.00       3,972.25     24.00     1.00\n",
       "max      75.00      18,424.00     72.00     1.00"
      ]
     },
     "execution_count": 21,
     "metadata": {},
     "output_type": "execute_result"
    }
   ],
   "source": [
    "german_credit_rectified.describe()"
   ]
  },
  {
   "cell_type": "code",
   "execution_count": 22,
   "metadata": {},
   "outputs": [],
   "source": [
    "def credit_classifier(row):\n",
    "    credit_amount = row['Credit amount']\n",
    "    if credit_amount <= 1365.50:\n",
    "        return 'low'\n",
    "    elif credit_amount > 1365.50 and credit_amount <= 2319.50:\n",
    "        return 'medium'\n",
    "    elif credit_amount > 2319.50 and credit_amount <= 3972.25:\n",
    "        return 'high'\n",
    "    elif credit_amount > 3972.25:\n",
    "        return 'very-high'\n",
    "german_credit_rectified['Credit category'] = german_credit_rectified.apply(credit_classifier, axis=1)\n",
    "german_credit_rectified['Credit category']\n",
    "german_credit_rectified.drop(['Credit amount'], axis=1, inplace=True)"
   ]
  },
  {
   "cell_type": "code",
   "execution_count": 24,
   "metadata": {},
   "outputs": [
    {
     "data": {
      "text/html": [
       "<div>\n",
       "<style scoped>\n",
       "    .dataframe tbody tr th:only-of-type {\n",
       "        vertical-align: middle;\n",
       "    }\n",
       "\n",
       "    .dataframe tbody tr th {\n",
       "        vertical-align: top;\n",
       "    }\n",
       "\n",
       "    .dataframe thead th {\n",
       "        text-align: right;\n",
       "    }\n",
       "</style>\n",
       "<table border=\"1\" class=\"dataframe\">\n",
       "  <thead>\n",
       "    <tr style=\"text-align: right;\">\n",
       "      <th></th>\n",
       "      <th>Sex</th>\n",
       "      <th>Job</th>\n",
       "      <th>Housing</th>\n",
       "      <th>Saving accounts</th>\n",
       "      <th>Checking account</th>\n",
       "      <th>Duration</th>\n",
       "      <th>Purpose</th>\n",
       "      <th>Risk</th>\n",
       "      <th>Credit category</th>\n",
       "      <th>Age category</th>\n",
       "    </tr>\n",
       "  </thead>\n",
       "  <tbody>\n",
       "    <tr>\n",
       "      <th>0</th>\n",
       "      <td>male</td>\n",
       "      <td>skilled</td>\n",
       "      <td>own</td>\n",
       "      <td>unknown</td>\n",
       "      <td>little</td>\n",
       "      <td>6</td>\n",
       "      <td>radio/TV</td>\n",
       "      <td>0</td>\n",
       "      <td>low</td>\n",
       "      <td>42-75</td>\n",
       "    </tr>\n",
       "    <tr>\n",
       "      <th>1</th>\n",
       "      <td>female</td>\n",
       "      <td>skilled</td>\n",
       "      <td>own</td>\n",
       "      <td>little</td>\n",
       "      <td>moderate</td>\n",
       "      <td>48</td>\n",
       "      <td>radio/TV</td>\n",
       "      <td>1</td>\n",
       "      <td>very-high</td>\n",
       "      <td>18-26</td>\n",
       "    </tr>\n",
       "    <tr>\n",
       "      <th>2</th>\n",
       "      <td>male</td>\n",
       "      <td>unskilled and resident</td>\n",
       "      <td>own</td>\n",
       "      <td>little</td>\n",
       "      <td>unknown</td>\n",
       "      <td>12</td>\n",
       "      <td>education</td>\n",
       "      <td>0</td>\n",
       "      <td>medium</td>\n",
       "      <td>42-75</td>\n",
       "    </tr>\n",
       "    <tr>\n",
       "      <th>3</th>\n",
       "      <td>male</td>\n",
       "      <td>skilled</td>\n",
       "      <td>free</td>\n",
       "      <td>little</td>\n",
       "      <td>little</td>\n",
       "      <td>42</td>\n",
       "      <td>furniture/equipment</td>\n",
       "      <td>0</td>\n",
       "      <td>very-high</td>\n",
       "      <td>42-75</td>\n",
       "    </tr>\n",
       "    <tr>\n",
       "      <th>4</th>\n",
       "      <td>male</td>\n",
       "      <td>skilled</td>\n",
       "      <td>free</td>\n",
       "      <td>little</td>\n",
       "      <td>little</td>\n",
       "      <td>24</td>\n",
       "      <td>car</td>\n",
       "      <td>1</td>\n",
       "      <td>very-high</td>\n",
       "      <td>42-75</td>\n",
       "    </tr>\n",
       "  </tbody>\n",
       "</table>\n",
       "</div>"
      ],
      "text/plain": [
       "      Sex                     Job Housing Saving accounts Checking account  \\\n",
       "0    male                 skilled     own         unknown           little   \n",
       "1  female                 skilled     own          little         moderate   \n",
       "2    male  unskilled and resident     own          little          unknown   \n",
       "3    male                 skilled    free          little           little   \n",
       "4    male                 skilled    free          little           little   \n",
       "\n",
       "   Duration              Purpose  Risk Credit category Age category  \n",
       "0         6             radio/TV     0             low        42-75  \n",
       "1        48             radio/TV     1       very-high        18-26  \n",
       "2        12            education     0          medium        42-75  \n",
       "3        42  furniture/equipment     0       very-high        42-75  \n",
       "4        24                  car     1       very-high        42-75  "
      ]
     },
     "execution_count": 24,
     "metadata": {},
     "output_type": "execute_result"
    }
   ],
   "source": [
    "age_bins = [18, 27, 33, 42, 76]\n",
    "age_cats = ['18-26', '27-32', '33-41', '42-75']\n",
    "german_credit_rectified['Age category'] = pd.cut(german_credit_rectified.Age, age_bins, labels=age_cats)\n",
    "german_credit_rectified.drop(['Age'], axis=1, inplace=True)\n",
    "german_credit_rectified.head()"
   ]
  },
  {
   "cell_type": "markdown",
   "metadata": {},
   "source": [
    "# 7. Find out total number of defaulters where for each category of 'Age' and  'Credit amount'."
   ]
  },
  {
   "cell_type": "code",
   "execution_count": 38,
   "metadata": {},
   "outputs": [],
   "source": [
    "age_defaulter = german_credit_rectified[['Age category', 'Risk']].groupby('Age category').sum()\n",
    "age_defaulter['Total'] = german_credit_rectified[['Age category', 'Risk']].groupby('Age category').count()\n",
    "age_defaulter['Percentage'] = age_defaulter['Risk']/age_defaulter['Total']*100\n",
    "age_defaulter\n",
    "age_defaulter.reset_index(inplace=True)"
   ]
  },
  {
   "cell_type": "code",
   "execution_count": 42,
   "metadata": {},
   "outputs": [
    {
     "data": {
      "text/plain": [
       "<AxesSubplot:xlabel='Age category', ylabel='Risk'>"
      ]
     },
     "execution_count": 42,
     "metadata": {},
     "output_type": "execute_result"
    },
    {
     "data": {
      "image/png": "[encoded data removed]",
      "text/plain": [
       "<Figure size 432x288 with 1 Axes>"
      ]
     },
     "metadata": {
      "needs_background": "light"
     },
     "output_type": "display_data"
    }
   ],
   "source": [
    "sns.barplot(data=age_defaulter, x=\"Age category\", y='Risk')"
   ]
  },
  {
   "cell_type": "code",
   "execution_count": 33,
   "metadata": {},
   "outputs": [
    {
     "data": {
      "text/plain": [
       "<AxesSubplot:xlabel='Age category', ylabel='Percentage'>"
      ]
     },
     "execution_count": 33,
     "metadata": {},
     "output_type": "execute_result"
    },
    {
     "data": {
      "image/png": "[encoded data removed]",
      "text/plain": [
       "<Figure size 432x288 with 1 Axes>"
      ]
     },
     "metadata": {
      "needs_background": "light"
     },
     "output_type": "display_data"
    }
   ],
   "source": [
    "sns.barplot(data=age_defaulter, x=\"Age category\", y='Percentage')"
   ]
  },
  {
   "cell_type": "code",
   "execution_count": 40,
   "metadata": {},
   "outputs": [],
   "source": [
    "credit_category_defaulter = german_credit_rectified[['Credit category', 'Risk']].groupby('Credit category').sum()\n",
    "credit_category_defaulter['Total'] = german_credit_rectified[['Credit category', 'Risk']].groupby('Credit category').count()\n",
    "credit_category_defaulter['Percentage'] = credit_category_defaulter['Risk']/credit_category_defaulter['Total']*100\n",
    "credit_category_defaulter.reset_index(inplace=True)"
   ]
  },
  {
   "cell_type": "code",
   "execution_count": 43,
   "metadata": {},
   "outputs": [
    {
     "data": {
      "text/plain": [
       "<AxesSubplot:xlabel='Credit category', ylabel='Risk'>"
      ]
     },
     "execution_count": 43,
     "metadata": {},
     "output_type": "execute_result"
    },
    {
     "data": {
      "image/png": "[encoded data removed]",
      "text/plain": [
       "<Figure size 432x288 with 1 Axes>"
      ]
     },
     "metadata": {
      "needs_background": "light"
     },
     "output_type": "display_data"
    }
   ],
   "source": [
    "sns.barplot(data=credit_category_defaulter, x=\"Credit category\", y='Risk')"
   ]
  },
  {
   "cell_type": "code",
   "execution_count": 37,
   "metadata": {},
   "outputs": [
    {
     "data": {
      "text/plain": [
       "<AxesSubplot:xlabel='Credit category', ylabel='Percentage'>"
      ]
     },
     "execution_count": 37,
     "metadata": {},
     "output_type": "execute_result"
    },
    {
     "data": {
      "image/png": "[encoded data removed]",
      "text/plain": [
       "<Figure size 432x288 with 1 Axes>"
      ]
     },
     "metadata": {
      "needs_background": "light"
     },
     "output_type": "display_data"
    }
   ],
   "source": [
    "sns.barplot(data=credit_category_defaulter, x=\"Credit category\", y='Percentage')"
   ]
  },
  {
   "cell_type": "markdown",
   "metadata": {},
   "source": [
    "## Insights\n",
    "* Lower age group (18-26) has the highest number of defaulters and also has the highest risk of defaulting.\n",
    "* The highest number of defaulters are in ```very-high``` credit category - this is also the category with highest probability of default."
   ]
  },
  {
   "cell_type": "code",
   "execution_count": 61,
   "metadata": {},
   "outputs": [
    {
     "data": {
      "text/html": [
       "<div>\n",
       "<style scoped>\n",
       "    .dataframe tbody tr th:only-of-type {\n",
       "        vertical-align: middle;\n",
       "    }\n",
       "\n",
       "    .dataframe tbody tr th {\n",
       "        vertical-align: top;\n",
       "    }\n",
       "\n",
       "    .dataframe thead th {\n",
       "        text-align: right;\n",
       "    }\n",
       "</style>\n",
       "<table border=\"1\" class=\"dataframe\">\n",
       "  <thead>\n",
       "    <tr style=\"text-align: right;\">\n",
       "      <th>Risk</th>\n",
       "      <th>Job</th>\n",
       "      <th>No</th>\n",
       "      <th>Yes</th>\n",
       "      <th>Total</th>\n",
       "      <th>Percentage default</th>\n",
       "    </tr>\n",
       "  </thead>\n",
       "  <tbody>\n",
       "    <tr>\n",
       "      <th>0</th>\n",
       "      <td>highly skilled</td>\n",
       "      <td>97</td>\n",
       "      <td>51</td>\n",
       "      <td>148</td>\n",
       "      <td>34.46</td>\n",
       "    </tr>\n",
       "    <tr>\n",
       "      <th>1</th>\n",
       "      <td>skilled</td>\n",
       "      <td>444</td>\n",
       "      <td>186</td>\n",
       "      <td>630</td>\n",
       "      <td>29.52</td>\n",
       "    </tr>\n",
       "    <tr>\n",
       "      <th>2</th>\n",
       "      <td>unskilled and non-resident</td>\n",
       "      <td>15</td>\n",
       "      <td>7</td>\n",
       "      <td>22</td>\n",
       "      <td>31.82</td>\n",
       "    </tr>\n",
       "    <tr>\n",
       "      <th>3</th>\n",
       "      <td>unskilled and resident</td>\n",
       "      <td>144</td>\n",
       "      <td>56</td>\n",
       "      <td>200</td>\n",
       "      <td>28.00</td>\n",
       "    </tr>\n",
       "  </tbody>\n",
       "</table>\n",
       "</div>"
      ],
      "text/plain": [
       "Risk                         Job   No  Yes  Total  Percentage default\n",
       "0                 highly skilled   97   51    148               34.46\n",
       "1                        skilled  444  186    630               29.52\n",
       "2     unskilled and non-resident   15    7     22               31.82\n",
       "3         unskilled and resident  144   56    200               28.00"
      ]
     },
     "execution_count": 61,
     "metadata": {},
     "output_type": "execute_result"
    }
   ],
   "source": [
    "crosstab=pd.crosstab(german_credit_rectified['Job'],german_credit_rectified['Risk'])\n",
    "crosstab.reset_index(inplace=True)\n",
    "#\n",
    "crosstab.rename(columns={0: 'No', 1: 'Yes'}, inplace=True)\n",
    "crosstab['Total'] = crosstab['No']+crosstab['Yes']\n",
    "crosstab['Percentage default'] = crosstab['Yes']/crosstab['Total'] * 100\n",
    "crosstab"
   ]
  },
  {
   "cell_type": "markdown",
   "metadata": {
    "colab_type": "text",
    "id": "cBcxmhZo_sOv"
   },
   "source": [
    "# 8. Prepare input data for the model"
   ]
  },
  {
   "cell_type": "markdown",
   "metadata": {},
   "source": [
    "### Separate dependent and independent variables"
   ]
  },
  {
   "cell_type": "code",
   "execution_count": null,
   "metadata": {},
   "outputs": [],
   "source": []
  },
  {
   "cell_type": "markdown",
   "metadata": {},
   "source": [
    "### One hot enocding for all the categorical variables"
   ]
  },
  {
   "cell_type": "code",
   "execution_count": null,
   "metadata": {
    "colab": {},
    "colab_type": "code",
    "id": "SkFsxC-F_sOw"
   },
   "outputs": [],
   "source": []
  },
  {
   "cell_type": "markdown",
   "metadata": {},
   "source": [
    "### Split data into train and test (maintain the ratio of both classes in train and test set same as the original dataset)"
   ]
  },
  {
   "cell_type": "code",
   "execution_count": null,
   "metadata": {},
   "outputs": [],
   "source": []
  },
  {
   "cell_type": "markdown",
   "metadata": {},
   "source": [
    "# 9. Predict Target Variable for Test Data using Sklearn"
   ]
  },
  {
   "cell_type": "code",
   "execution_count": null,
   "metadata": {},
   "outputs": [],
   "source": []
  },
  {
   "cell_type": "markdown",
   "metadata": {},
   "source": [
    "# 10. Try calculating Probabilities of Target using Sklearn"
   ]
  },
  {
   "cell_type": "code",
   "execution_count": null,
   "metadata": {},
   "outputs": [],
   "source": []
  },
  {
   "cell_type": "markdown",
   "metadata": {
    "colab_type": "text",
    "id": "b4oY0gsE_sPL"
   },
   "source": [
    "# 11. Build a confusion matrix and display the same using heatmap plot"
   ]
  },
  {
   "cell_type": "code",
   "execution_count": null,
   "metadata": {
    "colab": {},
    "colab_type": "code",
    "id": "7LwYf-8n_sPM"
   },
   "outputs": [],
   "source": []
  },
  {
   "cell_type": "markdown",
   "metadata": {
    "colab_type": "text",
    "id": "HjI8jX40_sPW"
   },
   "source": [
    "# 12.  Make a predicted probability distribution plot for defaulters and non defaulters"
   ]
  },
  {
   "cell_type": "code",
   "execution_count": null,
   "metadata": {
    "colab": {},
    "colab_type": "code",
    "id": "FYnjOCAP_sPX",
    "outputId": "cc559205-dcf0-4bac-86c9-c27e2966f12b",
    "scrolled": true
   },
   "outputs": [],
   "source": []
  },
  {
   "cell_type": "markdown",
   "metadata": {},
   "source": [
    "# 13. Give your conclusion for the problem. Which evaluation metric would you choose? "
   ]
  },
  {
   "cell_type": "code",
   "execution_count": null,
   "metadata": {},
   "outputs": [],
   "source": []
  }
 ],
 "metadata": {
  "colab": {
   "collapsed_sections": [],
   "name": "M1W2- PE LogisticRegression_withsolution.ipynb",
   "provenance": []
  },
  "kernelspec": {
   "display_name": "GL-Python-3.7 (tensorflow)",
   "language": "python",
   "name": "gl-tensorflow"
  },
  "language_info": {
   "codemirror_mode": {
    "name": "ipython",
    "version": 3
   },
   "file_extension": ".py",
   "mimetype": "text/x-python",
   "name": "python",
   "nbconvert_exporter": "python",
   "pygments_lexer": "ipython3",
   "version": "3.7.9"
  }
 },
 "nbformat": 4,
 "nbformat_minor": 1
}
